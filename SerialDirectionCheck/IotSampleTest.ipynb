{
 "cells": [
  {
   "cell_type": "code",
   "execution_count": 1,
   "metadata": {},
   "outputs": [
    {
     "name": "stdout",
     "output_type": "stream",
     "text": [
      "Program stopped\n"
     ]
    }
   ],
   "source": [
    "import sys\n",
    "from PyQt5 import uic\n",
    "import cv2, imutils\n",
    "import time\n",
    "from PyQt5.QtSerialPort import QSerialPort, QSerialPortInfo\n",
    "from PyQt5.QtCore import QIODevice  # QIODevice를 import 추가\n",
    "from PyQt5.QtWidgets import QApplication, QMainWindow\n",
    "import serial\n",
    "import time\n",
    "\n",
    "\n",
    "port = \"/dev/ttyACM0\" \n",
    "baudrate = 9600\n",
    "ser = serial.Serial(port, baudrate, timeout=1)\n",
    "\n",
    "button_count = []  \n",
    "\n",
    "try:\n",
    "    while True:\n",
    "        if ser.inWaiting() > 0:\n",
    "            line = ser.readline().decode('utf-8').rstrip()\n",
    "            if line.isdigit():  \n",
    "                button_count.append(int(line))\n",
    "                # print(\"Total button presses:\", button_count)\n",
    "except KeyboardInterrupt:\n",
    "    print(\"Program stopped\")\n",
    "finally:\n",
    "    ser.close()"
   ]
  },
  {
   "cell_type": "code",
   "execution_count": null,
   "metadata": {},
   "outputs": [],
   "source": [
    "print(button_count)"
   ]
  }
 ],
 "metadata": {
  "kernelspec": {
   "display_name": "eda_venv",
   "language": "python",
   "name": "python3"
  },
  "language_info": {
   "codemirror_mode": {
    "name": "ipython",
    "version": 3
   },
   "file_extension": ".py",
   "mimetype": "text/x-python",
   "name": "python",
   "nbconvert_exporter": "python",
   "pygments_lexer": "ipython3",
   "version": "3.10.12"
  }
 },
 "nbformat": 4,
 "nbformat_minor": 2
}
